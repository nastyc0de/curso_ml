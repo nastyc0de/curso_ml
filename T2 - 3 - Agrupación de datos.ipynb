{
 "cells": [
  {
   "cell_type": "markdown",
   "source": [
    "## Agregacion de datos por categoria"
   ],
   "metadata": {}
  },
  {
   "cell_type": "code",
   "execution_count": 1,
   "source": [
    "import pandas as pd\n",
    "import numpy as np"
   ],
   "outputs": [],
   "metadata": {}
  },
  {
   "cell_type": "code",
   "execution_count": 2,
   "source": [
    "gender = ['Male', 'Female']\n",
    "income = ['Poor', 'Middle Class', 'Rich']"
   ],
   "outputs": [],
   "metadata": {}
  },
  {
   "cell_type": "code",
   "execution_count": 3,
   "source": [
    "n = 500\n",
    "gender_data = [np.random.choice(gender) for _ in range(n)]\n",
    "income_data = [np.random.choice(income) for _ in range(n)]\n"
   ],
   "outputs": [],
   "metadata": {}
  },
  {
   "cell_type": "code",
   "execution_count": 5,
   "source": [
    "#  z => N(0, 1)\n",
    "#  N(m, s) => m + s * z\n",
    "height = 160 + 30 * np.random.randn(n)\n",
    "weight = 60 + 25 * np.random.randn(n)\n",
    "age = 30 + 12 * np.random.randn(n)\n",
    "income = 18000 + 3500 * np.random.randn(n)"
   ],
   "outputs": [],
   "metadata": {}
  },
  {
   "cell_type": "code",
   "execution_count": 7,
   "source": [
    "data = pd.DataFrame(\n",
    "    {\n",
    "        'gender': gender_data,\n",
    "        'Economic Status': income_data,\n",
    "        'height': height,\n",
    "        'weight': weight,\n",
    "        'age':age,\n",
    "        'income':income\n",
    "    }\n",
    ")"
   ],
   "outputs": [],
   "metadata": {}
  },
  {
   "cell_type": "code",
   "execution_count": 8,
   "source": [
    "data.head()"
   ],
   "outputs": [
    {
     "output_type": "execute_result",
     "data": {
      "text/html": [
       "<div>\n",
       "<style scoped>\n",
       "    .dataframe tbody tr th:only-of-type {\n",
       "        vertical-align: middle;\n",
       "    }\n",
       "\n",
       "    .dataframe tbody tr th {\n",
       "        vertical-align: top;\n",
       "    }\n",
       "\n",
       "    .dataframe thead th {\n",
       "        text-align: right;\n",
       "    }\n",
       "</style>\n",
       "<table border=\"1\" class=\"dataframe\">\n",
       "  <thead>\n",
       "    <tr style=\"text-align: right;\">\n",
       "      <th></th>\n",
       "      <th>gender</th>\n",
       "      <th>Economic Status</th>\n",
       "      <th>height</th>\n",
       "      <th>weight</th>\n",
       "      <th>age</th>\n",
       "      <th>income</th>\n",
       "    </tr>\n",
       "  </thead>\n",
       "  <tbody>\n",
       "    <tr>\n",
       "      <th>0</th>\n",
       "      <td>Female</td>\n",
       "      <td>Poor</td>\n",
       "      <td>174.508459</td>\n",
       "      <td>63.032251</td>\n",
       "      <td>39.405078</td>\n",
       "      <td>16979.958304</td>\n",
       "    </tr>\n",
       "    <tr>\n",
       "      <th>1</th>\n",
       "      <td>Male</td>\n",
       "      <td>Rich</td>\n",
       "      <td>139.005251</td>\n",
       "      <td>68.515674</td>\n",
       "      <td>43.349345</td>\n",
       "      <td>26127.912633</td>\n",
       "    </tr>\n",
       "    <tr>\n",
       "      <th>2</th>\n",
       "      <td>Female</td>\n",
       "      <td>Middle Class</td>\n",
       "      <td>195.494070</td>\n",
       "      <td>81.663611</td>\n",
       "      <td>10.090042</td>\n",
       "      <td>19020.022127</td>\n",
       "    </tr>\n",
       "    <tr>\n",
       "      <th>3</th>\n",
       "      <td>Male</td>\n",
       "      <td>Middle Class</td>\n",
       "      <td>160.248382</td>\n",
       "      <td>67.341003</td>\n",
       "      <td>32.955919</td>\n",
       "      <td>19690.685800</td>\n",
       "    </tr>\n",
       "    <tr>\n",
       "      <th>4</th>\n",
       "      <td>Female</td>\n",
       "      <td>Rich</td>\n",
       "      <td>171.834447</td>\n",
       "      <td>50.102432</td>\n",
       "      <td>15.949489</td>\n",
       "      <td>20729.917822</td>\n",
       "    </tr>\n",
       "  </tbody>\n",
       "</table>\n",
       "</div>"
      ],
      "text/plain": [
       "   gender Economic Status      height     weight        age        income\n",
       "0  Female            Poor  174.508459  63.032251  39.405078  16979.958304\n",
       "1    Male            Rich  139.005251  68.515674  43.349345  26127.912633\n",
       "2  Female    Middle Class  195.494070  81.663611  10.090042  19020.022127\n",
       "3    Male    Middle Class  160.248382  67.341003  32.955919  19690.685800\n",
       "4  Female            Rich  171.834447  50.102432  15.949489  20729.917822"
      ]
     },
     "metadata": {},
     "execution_count": 8
    }
   ],
   "metadata": {}
  },
  {
   "cell_type": "markdown",
   "source": [
    "## Agrupación de datos"
   ],
   "metadata": {}
  },
  {
   "cell_type": "code",
   "execution_count": 11,
   "source": [
    "grouped_gender = data.groupby('gender')"
   ],
   "outputs": [],
   "metadata": {}
  },
  {
   "cell_type": "code",
   "execution_count": 12,
   "source": [
    "grouped_gender.groups"
   ],
   "outputs": [
    {
     "output_type": "execute_result",
     "data": {
      "text/plain": [
       "{'Female': [0, 2, 4, 5, 7, 8, 12, 13, 14, 15, 17, 20, 23, 24, 26, 28, 31, 32, 34, 35, 37, 41, 42, 45, 47, 48, 49, 54, 56, 59, 60, 61, 62, 63, 65, 68, 69, 70, 71, 73, 74, 75, 76, 77, 79, 82, 86, 87, 88, 92, 93, 99, 101, 102, 104, 105, 107, 108, 110, 111, 112, 115, 117, 120, 121, 122, 123, 124, 128, 131, 132, 133, 138, 142, 144, 146, 150, 151, 153, 158, 159, 166, 168, 172, 173, 175, 177, 178, 179, 181, 184, 186, 187, 197, 200, 201, 202, 205, 206, 208, ...], 'Male': [1, 3, 6, 9, 10, 11, 16, 18, 19, 21, 22, 25, 27, 29, 30, 33, 36, 38, 39, 40, 43, 44, 46, 50, 51, 52, 53, 55, 57, 58, 64, 66, 67, 72, 78, 80, 81, 83, 84, 85, 89, 90, 91, 94, 95, 96, 97, 98, 100, 103, 106, 109, 113, 114, 116, 118, 119, 125, 126, 127, 129, 130, 134, 135, 136, 137, 139, 140, 141, 143, 145, 147, 148, 149, 152, 154, 155, 156, 157, 160, 161, 162, 163, 164, 165, 167, 169, 170, 171, 174, 176, 180, 182, 183, 185, 188, 189, 190, 191, 192, ...]}"
      ]
     },
     "metadata": {},
     "execution_count": 12
    }
   ],
   "metadata": {}
  },
  {
   "cell_type": "code",
   "execution_count": 13,
   "source": [
    "for group, names in grouped_gender:\n",
    "    print(group)\n",
    "    print(names)"
   ],
   "outputs": [
    {
     "output_type": "stream",
     "name": "stdout",
     "text": [
      "Female\n",
      "     gender Economic Status      height     weight        age        income\n",
      "0    Female            Poor  174.508459  63.032251  39.405078  16979.958304\n",
      "2    Female    Middle Class  195.494070  81.663611  10.090042  19020.022127\n",
      "4    Female            Rich  171.834447  50.102432  15.949489  20729.917822\n",
      "5    Female    Middle Class  182.532627  43.339614  35.843406  17926.142128\n",
      "7    Female            Poor  167.421869  61.516701  44.682690  16346.654543\n",
      "..      ...             ...         ...        ...        ...           ...\n",
      "492  Female            Poor  176.931420  64.229267  23.168778  17207.410306\n",
      "493  Female    Middle Class  189.587755  16.199520  17.999666  16876.349164\n",
      "495  Female    Middle Class  173.774401  30.362480  33.355392  16006.562862\n",
      "496  Female    Middle Class  189.328384  90.514001  10.048495  16231.308053\n",
      "498  Female            Poor  156.960086  95.822759  36.333346  21786.694301\n",
      "\n",
      "[254 rows x 6 columns]\n",
      "Male\n",
      "    gender Economic Status      height     weight        age        income\n",
      "1     Male            Rich  139.005251  68.515674  43.349345  26127.912633\n",
      "3     Male    Middle Class  160.248382  67.341003  32.955919  19690.685800\n",
      "6     Male    Middle Class  163.487767  87.531793  54.604757  12837.658626\n",
      "9     Male            Poor  178.674410  41.560327  41.666653  21566.027369\n",
      "10    Male    Middle Class   97.254673  56.691182  40.857442  20781.610611\n",
      "..     ...             ...         ...        ...        ...           ...\n",
      "490   Male            Poor  175.102228  53.953903  16.232941  17874.616947\n",
      "491   Male            Poor  162.109946  77.980959  12.889198  22401.534400\n",
      "494   Male    Middle Class  171.048004  66.945817  61.927953  13040.592328\n",
      "497   Male    Middle Class  181.634183  66.783581  18.439316  12402.035988\n",
      "499   Male            Poor  197.612108  90.774023  48.248255  19214.151217\n",
      "\n",
      "[246 rows x 6 columns]\n"
     ]
    }
   ],
   "metadata": {}
  },
  {
   "cell_type": "code",
   "execution_count": 14,
   "source": [
    "grouped_gender.get_group(\"Female\")"
   ],
   "outputs": [
    {
     "output_type": "execute_result",
     "data": {
      "text/html": [
       "<div>\n",
       "<style scoped>\n",
       "    .dataframe tbody tr th:only-of-type {\n",
       "        vertical-align: middle;\n",
       "    }\n",
       "\n",
       "    .dataframe tbody tr th {\n",
       "        vertical-align: top;\n",
       "    }\n",
       "\n",
       "    .dataframe thead th {\n",
       "        text-align: right;\n",
       "    }\n",
       "</style>\n",
       "<table border=\"1\" class=\"dataframe\">\n",
       "  <thead>\n",
       "    <tr style=\"text-align: right;\">\n",
       "      <th></th>\n",
       "      <th>gender</th>\n",
       "      <th>Economic Status</th>\n",
       "      <th>height</th>\n",
       "      <th>weight</th>\n",
       "      <th>age</th>\n",
       "      <th>income</th>\n",
       "    </tr>\n",
       "  </thead>\n",
       "  <tbody>\n",
       "    <tr>\n",
       "      <th>0</th>\n",
       "      <td>Female</td>\n",
       "      <td>Poor</td>\n",
       "      <td>174.508459</td>\n",
       "      <td>63.032251</td>\n",
       "      <td>39.405078</td>\n",
       "      <td>16979.958304</td>\n",
       "    </tr>\n",
       "    <tr>\n",
       "      <th>2</th>\n",
       "      <td>Female</td>\n",
       "      <td>Middle Class</td>\n",
       "      <td>195.494070</td>\n",
       "      <td>81.663611</td>\n",
       "      <td>10.090042</td>\n",
       "      <td>19020.022127</td>\n",
       "    </tr>\n",
       "    <tr>\n",
       "      <th>4</th>\n",
       "      <td>Female</td>\n",
       "      <td>Rich</td>\n",
       "      <td>171.834447</td>\n",
       "      <td>50.102432</td>\n",
       "      <td>15.949489</td>\n",
       "      <td>20729.917822</td>\n",
       "    </tr>\n",
       "    <tr>\n",
       "      <th>5</th>\n",
       "      <td>Female</td>\n",
       "      <td>Middle Class</td>\n",
       "      <td>182.532627</td>\n",
       "      <td>43.339614</td>\n",
       "      <td>35.843406</td>\n",
       "      <td>17926.142128</td>\n",
       "    </tr>\n",
       "    <tr>\n",
       "      <th>7</th>\n",
       "      <td>Female</td>\n",
       "      <td>Poor</td>\n",
       "      <td>167.421869</td>\n",
       "      <td>61.516701</td>\n",
       "      <td>44.682690</td>\n",
       "      <td>16346.654543</td>\n",
       "    </tr>\n",
       "    <tr>\n",
       "      <th>...</th>\n",
       "      <td>...</td>\n",
       "      <td>...</td>\n",
       "      <td>...</td>\n",
       "      <td>...</td>\n",
       "      <td>...</td>\n",
       "      <td>...</td>\n",
       "    </tr>\n",
       "    <tr>\n",
       "      <th>492</th>\n",
       "      <td>Female</td>\n",
       "      <td>Poor</td>\n",
       "      <td>176.931420</td>\n",
       "      <td>64.229267</td>\n",
       "      <td>23.168778</td>\n",
       "      <td>17207.410306</td>\n",
       "    </tr>\n",
       "    <tr>\n",
       "      <th>493</th>\n",
       "      <td>Female</td>\n",
       "      <td>Middle Class</td>\n",
       "      <td>189.587755</td>\n",
       "      <td>16.199520</td>\n",
       "      <td>17.999666</td>\n",
       "      <td>16876.349164</td>\n",
       "    </tr>\n",
       "    <tr>\n",
       "      <th>495</th>\n",
       "      <td>Female</td>\n",
       "      <td>Middle Class</td>\n",
       "      <td>173.774401</td>\n",
       "      <td>30.362480</td>\n",
       "      <td>33.355392</td>\n",
       "      <td>16006.562862</td>\n",
       "    </tr>\n",
       "    <tr>\n",
       "      <th>496</th>\n",
       "      <td>Female</td>\n",
       "      <td>Middle Class</td>\n",
       "      <td>189.328384</td>\n",
       "      <td>90.514001</td>\n",
       "      <td>10.048495</td>\n",
       "      <td>16231.308053</td>\n",
       "    </tr>\n",
       "    <tr>\n",
       "      <th>498</th>\n",
       "      <td>Female</td>\n",
       "      <td>Poor</td>\n",
       "      <td>156.960086</td>\n",
       "      <td>95.822759</td>\n",
       "      <td>36.333346</td>\n",
       "      <td>21786.694301</td>\n",
       "    </tr>\n",
       "  </tbody>\n",
       "</table>\n",
       "<p>254 rows × 6 columns</p>\n",
       "</div>"
      ],
      "text/plain": [
       "     gender Economic Status      height     weight        age        income\n",
       "0    Female            Poor  174.508459  63.032251  39.405078  16979.958304\n",
       "2    Female    Middle Class  195.494070  81.663611  10.090042  19020.022127\n",
       "4    Female            Rich  171.834447  50.102432  15.949489  20729.917822\n",
       "5    Female    Middle Class  182.532627  43.339614  35.843406  17926.142128\n",
       "7    Female            Poor  167.421869  61.516701  44.682690  16346.654543\n",
       "..      ...             ...         ...        ...        ...           ...\n",
       "492  Female            Poor  176.931420  64.229267  23.168778  17207.410306\n",
       "493  Female    Middle Class  189.587755  16.199520  17.999666  16876.349164\n",
       "495  Female    Middle Class  173.774401  30.362480  33.355392  16006.562862\n",
       "496  Female    Middle Class  189.328384  90.514001  10.048495  16231.308053\n",
       "498  Female            Poor  156.960086  95.822759  36.333346  21786.694301\n",
       "\n",
       "[254 rows x 6 columns]"
      ]
     },
     "metadata": {},
     "execution_count": 14
    }
   ],
   "metadata": {}
  },
  {
   "cell_type": "code",
   "execution_count": 15,
   "source": [
    "double_group = data.groupby(['gender', 'Economic Status'])\n",
    "double_group"
   ],
   "outputs": [
    {
     "output_type": "execute_result",
     "data": {
      "text/plain": [
       "<pandas.core.groupby.generic.DataFrameGroupBy object at 0x11455c220>"
      ]
     },
     "metadata": {},
     "execution_count": 15
    }
   ],
   "metadata": {}
  },
  {
   "cell_type": "code",
   "execution_count": 16,
   "source": [
    "double_group.groups"
   ],
   "outputs": [
    {
     "output_type": "execute_result",
     "data": {
      "text/plain": [
       "{('Female', 'Middle Class'): [2, 5, 8, 20, 26, 32, 35, 42, 49, 54, 59, 68, 69, 73, 77, 86, 101, 110, 115, 117, 120, 124, 144, 158, 159, 166, 172, 173, 175, 201, 206, 209, 223, 227, 231, 232, 233, 235, 238, 248, 255, 256, 268, 274, 275, 278, 283, 285, 286, 298, 300, 307, 311, 314, 315, 316, 322, 340, 341, 345, 357, 358, 365, 370, 373, 377, 378, 388, 402, 410, 422, 423, 428, 431, 435, 441, 444, 448, 452, 453, 458, 466, 468, 473, 474, 493, 495, 496], ('Female', 'Poor'): [0, 7, 13, 14, 15, 28, 31, 45, 47, 56, 60, 62, 71, 75, 76, 82, 87, 88, 99, 104, 105, 108, 121, 122, 123, 128, 132, 133, 142, 146, 150, 168, 187, 200, 205, 208, 216, 225, 229, 237, 239, 242, 243, 247, 260, 262, 266, 277, 291, 293, 302, 303, 329, 330, 336, 343, 347, 348, 349, 351, 359, 363, 366, 381, 385, 389, 408, 413, 414, 419, 429, 437, 438, 440, 442, 443, 447, 460, 462, 463, 471, 472, 478, 492, 498], ('Female', 'Rich'): [4, 12, 17, 23, 24, 34, 37, 41, 48, 61, 63, 65, 70, 74, 79, 92, 93, 102, 107, 111, 112, 131, 138, 151, 153, 177, 178, 179, 181, 184, 186, 197, 202, 213, 214, 228, 230, 240, 252, 253, 254, 257, 280, 281, 284, 288, 289, 296, 299, 309, 312, 313, 317, 320, 326, 331, 353, 380, 382, 384, 387, 390, 398, 400, 401, 405, 412, 417, 418, 432, 451, 456, 464, 465, 467, 479, 480, 485, 486, 487, 489], ('Male', 'Middle Class'): [3, 6, 10, 11, 16, 18, 21, 22, 25, 27, 36, 39, 43, 44, 51, 53, 58, 66, 67, 81, 83, 106, 114, 116, 125, 129, 136, 139, 141, 145, 148, 149, 154, 155, 156, 160, 167, 170, 171, 185, 188, 189, 190, 191, 192, 194, 199, 207, 211, 218, 221, 224, 226, 236, 241, 245, 258, 261, 263, 264, 265, 270, 271, 272, 295, 305, 319, 325, 332, 334, 342, 344, 352, 354, 360, 368, 371, 379, 383, 386, 395, 399, 416, 421, 424, 425, 427, 430, 436, 439, 445, 454, 457, 470, 475, 477, 484, 494, 497], ('Male', 'Poor'): [9, 19, 29, 30, 38, 46, 50, 52, 55, 57, 78, 80, 90, 94, 96, 98, 100, 103, 113, 118, 126, 137, 140, 143, 147, 152, 161, 162, 169, 176, 180, 182, 183, 193, 198, 204, 210, 212, 219, 222, 234, 244, 249, 251, 273, 279, 287, 290, 297, 304, 306, 308, 321, 324, 335, 337, 338, 350, 356, 375, 391, 393, 394, 396, 404, 409, 411, 433, 449, 455, 459, 469, 483, 488, 490, 491, 499], ('Male', 'Rich'): [1, 33, 40, 64, 72, 84, 85, 89, 91, 95, 97, 109, 119, 127, 130, 134, 135, 157, 163, 164, 165, 174, 195, 196, 203, 215, 217, 220, 246, 250, 259, 267, 269, 276, 282, 292, 294, 301, 310, 318, 323, 327, 328, 333, 339, 346, 355, 361, 362, 364, 367, 369, 372, 374, 376, 392, 397, 403, 406, 407, 415, 420, 426, 434, 446, 450, 461, 476, 481, 482]}"
      ]
     },
     "metadata": {},
     "execution_count": 16
    }
   ],
   "metadata": {}
  },
  {
   "cell_type": "code",
   "execution_count": null,
   "source": [],
   "outputs": [],
   "metadata": {}
  }
 ],
 "metadata": {
  "orig_nbformat": 4,
  "language_info": {
   "name": "python",
   "version": "3.9.5",
   "mimetype": "text/x-python",
   "codemirror_mode": {
    "name": "ipython",
    "version": 3
   },
   "pygments_lexer": "ipython3",
   "nbconvert_exporter": "python",
   "file_extension": ".py"
  },
  "kernelspec": {
   "name": "python3",
   "display_name": "Python 3.9.5 64-bit ('env': venv)"
  },
  "interpreter": {
   "hash": "7e676eb4eaa57200b64b091f13e60b680857322aa2f95e5a4d27f6942171e312"
  }
 },
 "nbformat": 4,
 "nbformat_minor": 2
}