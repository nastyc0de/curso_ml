{
 "cells": [
  {
   "cell_type": "markdown",
   "source": [
    "# Modelos de regresion lineal\n",
    "## Modelo con datos simulados\n",
    "# $y = \\alpha +\\beta*x$"
   ],
   "metadata": {}
  },
  {
   "cell_type": "markdown",
   "source": [
    "## x: 100 valores distribuidos segun una N(1.5, 2.5)\n",
    "## ye: 5 + 1.9*x + error\n",
    "## e: estara distribuida segun una N(0, 0.8)"
   ],
   "metadata": {}
  },
  {
   "cell_type": "code",
   "execution_count": 1,
   "source": [
    "import pandas as pd\n",
    "import numpy as np"
   ],
   "outputs": [],
   "metadata": {}
  },
  {
   "cell_type": "code",
   "execution_count": 2,
   "source": [
    "x = 1.5 + 2.5*np.random.randn(100)"
   ],
   "outputs": [],
   "metadata": {}
  },
  {
   "cell_type": "code",
   "execution_count": 3,
   "source": [
    "error = 0 + 0.8*np.random.randn(100)"
   ],
   "outputs": [],
   "metadata": {}
  },
  {
   "cell_type": "code",
   "execution_count": 4,
   "source": [
    "y_pred = 5 + 1.9*x"
   ],
   "outputs": [],
   "metadata": {}
  },
  {
   "cell_type": "code",
   "execution_count": 5,
   "source": [
    "y_act = 5 + 1.9*x + error"
   ],
   "outputs": [],
   "metadata": {}
  },
  {
   "cell_type": "code",
   "execution_count": 6,
   "source": [
    "x_list, y_pred_list, y_act_list = x.tolist(), y_pred.tolist(), y_act.tolist()"
   ],
   "outputs": [],
   "metadata": {}
  },
  {
   "cell_type": "code",
   "execution_count": 11,
   "source": [
    "data = pd.DataFrame(\n",
    "    {\n",
    "        'x':x_list,\n",
    "        'y':y_act_list,\n",
    "        'y_pred':y_pred_list\n",
    "    }\n",
    ")"
   ],
   "outputs": [],
   "metadata": {}
  },
  {
   "cell_type": "code",
   "execution_count": 12,
   "source": [
    "data.head()"
   ],
   "outputs": [
    {
     "output_type": "execute_result",
     "data": {
      "text/html": [
       "<div>\n",
       "<style scoped>\n",
       "    .dataframe tbody tr th:only-of-type {\n",
       "        vertical-align: middle;\n",
       "    }\n",
       "\n",
       "    .dataframe tbody tr th {\n",
       "        vertical-align: top;\n",
       "    }\n",
       "\n",
       "    .dataframe thead th {\n",
       "        text-align: right;\n",
       "    }\n",
       "</style>\n",
       "<table border=\"1\" class=\"dataframe\">\n",
       "  <thead>\n",
       "    <tr style=\"text-align: right;\">\n",
       "      <th></th>\n",
       "      <th>x</th>\n",
       "      <th>y</th>\n",
       "      <th>y_pred</th>\n",
       "    </tr>\n",
       "  </thead>\n",
       "  <tbody>\n",
       "    <tr>\n",
       "      <th>0</th>\n",
       "      <td>-2.970223</td>\n",
       "      <td>-0.335664</td>\n",
       "      <td>-0.643424</td>\n",
       "    </tr>\n",
       "    <tr>\n",
       "      <th>1</th>\n",
       "      <td>2.672801</td>\n",
       "      <td>9.898286</td>\n",
       "      <td>10.078321</td>\n",
       "    </tr>\n",
       "    <tr>\n",
       "      <th>2</th>\n",
       "      <td>6.012116</td>\n",
       "      <td>18.915595</td>\n",
       "      <td>16.423020</td>\n",
       "    </tr>\n",
       "    <tr>\n",
       "      <th>3</th>\n",
       "      <td>1.258877</td>\n",
       "      <td>7.759855</td>\n",
       "      <td>7.391867</td>\n",
       "    </tr>\n",
       "    <tr>\n",
       "      <th>4</th>\n",
       "      <td>1.417245</td>\n",
       "      <td>7.811345</td>\n",
       "      <td>7.692765</td>\n",
       "    </tr>\n",
       "  </tbody>\n",
       "</table>\n",
       "</div>"
      ],
      "text/plain": [
       "          x          y     y_pred\n",
       "0 -2.970223  -0.335664  -0.643424\n",
       "1  2.672801   9.898286  10.078321\n",
       "2  6.012116  18.915595  16.423020\n",
       "3  1.258877   7.759855   7.391867\n",
       "4  1.417245   7.811345   7.692765"
      ]
     },
     "metadata": {},
     "execution_count": 12
    }
   ],
   "metadata": {}
  },
  {
   "cell_type": "code",
   "execution_count": 20,
   "source": [
    "import matplotlib.pyplot as plt"
   ],
   "outputs": [],
   "metadata": {}
  },
  {
   "cell_type": "code",
   "execution_count": 23,
   "source": [
    "y_mean = [np.mean(data['y']) for _ in range(1, len(data)+1)]"
   ],
   "outputs": [],
   "metadata": {}
  },
  {
   "cell_type": "code",
   "execution_count": 24,
   "source": [
    "plt.plot(data['x'], data['y_pred'])\n",
    "plt.plot(data['x'], data['y'], 'go')\n",
    "plt.plot(data['x'], y_mean,'b')\n",
    "plt.title('Valor actual vs. Prediccion')"
   ],
   "outputs": [
    {
     "output_type": "execute_result",
     "data": {
      "text/plain": [
       "Text(0.5, 1.0, 'Valor actual vs. Prediccion')"
      ]
     },
     "metadata": {},
     "execution_count": 24
    },
    {
     "output_type": "display_data",
     "data": {
      "image/png": "[encoded data removed]",
      "text/plain": [
       "<Figure size 432x288 with 1 Axes>"
      ]
     },
     "metadata": {
      "needs_background": "light"
     }
    }
   ],
   "metadata": {}
  },
  {
   "cell_type": "code",
   "execution_count": 25,
   "source": [
    "data['SSR'] = (data['y_pred'] - np.mean(y_act))**2\n",
    "data['SSD'] = (data['y_pred'] - data['y'])**2\n",
    "data['SST'] = (data['y'] - np.mean(data['y']))**2"
   ],
   "outputs": [],
   "metadata": {}
  },
  {
   "cell_type": "code",
   "execution_count": 26,
   "source": [
    "data.head()"
   ],
   "outputs": [
    {
     "output_type": "execute_result",
     "data": {
      "text/html": [
       "<div>\n",
       "<style scoped>\n",
       "    .dataframe tbody tr th:only-of-type {\n",
       "        vertical-align: middle;\n",
       "    }\n",
       "\n",
       "    .dataframe tbody tr th {\n",
       "        vertical-align: top;\n",
       "    }\n",
       "\n",
       "    .dataframe thead th {\n",
       "        text-align: right;\n",
       "    }\n",
       "</style>\n",
       "<table border=\"1\" class=\"dataframe\">\n",
       "  <thead>\n",
       "    <tr style=\"text-align: right;\">\n",
       "      <th></th>\n",
       "      <th>x</th>\n",
       "      <th>y</th>\n",
       "      <th>y_pred</th>\n",
       "      <th>SSR</th>\n",
       "      <th>SSD</th>\n",
       "      <th>SST</th>\n",
       "    </tr>\n",
       "  </thead>\n",
       "  <tbody>\n",
       "    <tr>\n",
       "      <th>0</th>\n",
       "      <td>-2.970223</td>\n",
       "      <td>-0.335664</td>\n",
       "      <td>-0.643424</td>\n",
       "      <td>72.933692</td>\n",
       "      <td>0.094717</td>\n",
       "      <td>67.771781</td>\n",
       "    </tr>\n",
       "    <tr>\n",
       "      <th>1</th>\n",
       "      <td>2.672801</td>\n",
       "      <td>9.898286</td>\n",
       "      <td>10.078321</td>\n",
       "      <td>4.759480</td>\n",
       "      <td>0.032413</td>\n",
       "      <td>4.006353</td>\n",
       "    </tr>\n",
       "    <tr>\n",
       "      <th>2</th>\n",
       "      <td>6.012116</td>\n",
       "      <td>18.915595</td>\n",
       "      <td>16.423020</td>\n",
       "      <td>72.698157</td>\n",
       "      <td>6.212932</td>\n",
       "      <td>121.416086</td>\n",
       "    </tr>\n",
       "    <tr>\n",
       "      <th>3</th>\n",
       "      <td>1.258877</td>\n",
       "      <td>7.759855</td>\n",
       "      <td>7.391867</td>\n",
       "      <td>0.254855</td>\n",
       "      <td>0.135415</td>\n",
       "      <td>0.018726</td>\n",
       "    </tr>\n",
       "    <tr>\n",
       "      <th>4</th>\n",
       "      <td>1.417245</td>\n",
       "      <td>7.811345</td>\n",
       "      <td>7.692765</td>\n",
       "      <td>0.041589</td>\n",
       "      <td>0.014061</td>\n",
       "      <td>0.007285</td>\n",
       "    </tr>\n",
       "  </tbody>\n",
       "</table>\n",
       "</div>"
      ],
      "text/plain": [
       "          x          y     y_pred        SSR       SSD         SST\n",
       "0 -2.970223  -0.335664  -0.643424  72.933692  0.094717   67.771781\n",
       "1  2.672801   9.898286  10.078321   4.759480  0.032413    4.006353\n",
       "2  6.012116  18.915595  16.423020  72.698157  6.212932  121.416086\n",
       "3  1.258877   7.759855   7.391867   0.254855  0.135415    0.018726\n",
       "4  1.417245   7.811345   7.692765   0.041589  0.014061    0.007285"
      ]
     },
     "metadata": {},
     "execution_count": 26
    }
   ],
   "metadata": {}
  },
  {
   "cell_type": "code",
   "execution_count": 27,
   "source": [
    "SSR = sum(data['SSR'])\n",
    "SSD = sum(data['SSD'])\n",
    "SST = sum(data['SST'])"
   ],
   "outputs": [],
   "metadata": {}
  },
  {
   "cell_type": "code",
   "execution_count": 28,
   "source": [
    "SST"
   ],
   "outputs": [
    {
     "output_type": "execute_result",
     "data": {
      "text/plain": [
       "2336.720749232118"
      ]
     },
     "metadata": {},
     "execution_count": 28
    }
   ],
   "metadata": {}
  },
  {
   "cell_type": "code",
   "execution_count": 29,
   "source": [
    "SSD"
   ],
   "outputs": [
    {
     "output_type": "execute_result",
     "data": {
      "text/plain": [
       "81.9935031814123"
      ]
     },
     "metadata": {},
     "execution_count": 29
    }
   ],
   "metadata": {}
  },
  {
   "cell_type": "code",
   "execution_count": 30,
   "source": [
    "SSR"
   ],
   "outputs": [
    {
     "output_type": "execute_result",
     "data": {
      "text/plain": [
       "2219.136002162232"
      ]
     },
     "metadata": {},
     "execution_count": 30
    }
   ],
   "metadata": {}
  },
  {
   "cell_type": "code",
   "execution_count": 31,
   "source": [
    "SSD + SSR"
   ],
   "outputs": [
    {
     "output_type": "execute_result",
     "data": {
      "text/plain": [
       "2301.1295053436447"
      ]
     },
     "metadata": {},
     "execution_count": 31
    }
   ],
   "metadata": {}
  },
  {
   "cell_type": "code",
   "execution_count": 32,
   "source": [
    "R2 = SSR/SST"
   ],
   "outputs": [],
   "metadata": {}
  },
  {
   "cell_type": "code",
   "execution_count": 33,
   "source": [
    "R2"
   ],
   "outputs": [
    {
     "output_type": "execute_result",
     "data": {
      "text/plain": [
       "0.9496795896092736"
      ]
     },
     "metadata": {},
     "execution_count": 33
    }
   ],
   "metadata": {}
  },
  {
   "cell_type": "code",
   "execution_count": 35,
   "source": [
    "plt.hist(data['y_pred']- data['y'])"
   ],
   "outputs": [
    {
     "output_type": "execute_result",
     "data": {
      "text/plain": [
       "(array([ 3.,  2.,  7., 14., 16., 21., 16., 12.,  6.,  3.]),\n",
       " array([-2.49257535, -2.04331799, -1.59406063, -1.14480327, -0.69554591,\n",
       "        -0.24628855,  0.20296882,  0.65222618,  1.10148354,  1.5507409 ,\n",
       "         1.99999826]),\n",
       " <BarContainer object of 10 artists>)"
      ]
     },
     "metadata": {},
     "execution_count": 35
    },
    {
     "output_type": "display_data",
     "data": {
      "image/png": "[encoded data removed]",
      "text/plain": [
       "<Figure size 432x288 with 1 Axes>"
      ]
     },
     "metadata": {
      "needs_background": "light"
     }
    }
   ],
   "metadata": {}
  },
  {
   "cell_type": "markdown",
   "source": [
    "## Obteniendo la recta de la regresion"
   ],
   "metadata": {}
  },
  {
   "cell_type": "markdown",
   "source": [
    "# $y = \\alpha + \\beta*x$"
   ],
   "metadata": {}
  },
  {
   "cell_type": "markdown",
   "source": [
    "# $\\beta = \\frac{\\sum(xi -\\bar{x})(yi -\\bar{y})}{\\sum(xi - \\bar{x})^2}$"
   ],
   "metadata": {}
  },
  {
   "cell_type": "markdown",
   "source": [
    "# $\\alpha = \\bar{y}-\\beta*\\bar{x}$"
   ],
   "metadata": {}
  },
  {
   "cell_type": "code",
   "execution_count": 37,
   "source": [
    "x_mean = np.mean(data['x'])\n",
    "y_mean = np.mean(data['y'])\n",
    "x_mean, y_mean"
   ],
   "outputs": [
    {
     "output_type": "execute_result",
     "data": {
      "text/plain": [
       "(1.4766277647645658, 7.896698252945257)"
      ]
     },
     "metadata": {},
     "execution_count": 37
    }
   ],
   "metadata": {}
  },
  {
   "cell_type": "code",
   "execution_count": 38,
   "source": [
    "data['beta_n'] = (data['x'] - x_mean)*(data['y'] - y_mean)\n",
    "data['beta_d'] = (data['x'] - x_mean)**2"
   ],
   "outputs": [],
   "metadata": {}
  },
  {
   "cell_type": "code",
   "execution_count": 39,
   "source": [
    "beta = sum(data['beta_n'])/sum(data['beta_d'])"
   ],
   "outputs": [],
   "metadata": {}
  },
  {
   "cell_type": "code",
   "execution_count": 40,
   "source": [
    "alpha = y_mean - (beta * x_mean)"
   ],
   "outputs": [],
   "metadata": {}
  },
  {
   "cell_type": "code",
   "execution_count": 41,
   "source": [
    "print(f'y = {alpha} + {beta}*x')"
   ],
   "outputs": [
    {
     "output_type": "stream",
     "name": "stdout",
     "text": [
      "y = 5.067548799461624 + 1.9159530390752972*x\n"
     ]
    }
   ],
   "metadata": {}
  },
  {
   "cell_type": "code",
   "execution_count": 59,
   "source": [
    "data['y_model'] = alpha + beta * data['x']"
   ],
   "outputs": [],
   "metadata": {}
  },
  {
   "cell_type": "code",
   "execution_count": 52,
   "source": [
    "data.head()"
   ],
   "outputs": [
    {
     "output_type": "execute_result",
     "data": {
      "text/html": [
       "<div>\n",
       "<style scoped>\n",
       "    .dataframe tbody tr th:only-of-type {\n",
       "        vertical-align: middle;\n",
       "    }\n",
       "\n",
       "    .dataframe tbody tr th {\n",
       "        vertical-align: top;\n",
       "    }\n",
       "\n",
       "    .dataframe thead th {\n",
       "        text-align: right;\n",
       "    }\n",
       "</style>\n",
       "<table border=\"1\" class=\"dataframe\">\n",
       "  <thead>\n",
       "    <tr style=\"text-align: right;\">\n",
       "      <th></th>\n",
       "      <th>x</th>\n",
       "      <th>y</th>\n",
       "      <th>y_pred</th>\n",
       "      <th>SSR</th>\n",
       "      <th>SSD</th>\n",
       "      <th>SST</th>\n",
       "      <th>beta_n</th>\n",
       "      <th>beta_d</th>\n",
       "      <th>y_model</th>\n",
       "    </tr>\n",
       "  </thead>\n",
       "  <tbody>\n",
       "    <tr>\n",
       "      <th>0</th>\n",
       "      <td>-2.970223</td>\n",
       "      <td>-0.335664</td>\n",
       "      <td>-0.643424</td>\n",
       "      <td>72.933692</td>\n",
       "      <td>0.094717</td>\n",
       "      <td>67.771781</td>\n",
       "      <td>36.608087</td>\n",
       "      <td>19.774484</td>\n",
       "      <td>-0.623260</td>\n",
       "    </tr>\n",
       "    <tr>\n",
       "      <th>1</th>\n",
       "      <td>2.672801</td>\n",
       "      <td>9.898286</td>\n",
       "      <td>10.078321</td>\n",
       "      <td>4.759480</td>\n",
       "      <td>0.032413</td>\n",
       "      <td>4.006353</td>\n",
       "      <td>2.394245</td>\n",
       "      <td>1.430830</td>\n",
       "      <td>10.188510</td>\n",
       "    </tr>\n",
       "    <tr>\n",
       "      <th>2</th>\n",
       "      <td>6.012116</td>\n",
       "      <td>18.915595</td>\n",
       "      <td>16.423020</td>\n",
       "      <td>72.698157</td>\n",
       "      <td>6.212932</td>\n",
       "      <td>121.416086</td>\n",
       "      <td>49.976073</td>\n",
       "      <td>20.570650</td>\n",
       "      <td>16.586480</td>\n",
       "    </tr>\n",
       "    <tr>\n",
       "      <th>3</th>\n",
       "      <td>1.258877</td>\n",
       "      <td>7.759855</td>\n",
       "      <td>7.391867</td>\n",
       "      <td>0.254855</td>\n",
       "      <td>0.135415</td>\n",
       "      <td>0.018726</td>\n",
       "      <td>0.029798</td>\n",
       "      <td>0.047415</td>\n",
       "      <td>7.479499</td>\n",
       "    </tr>\n",
       "    <tr>\n",
       "      <th>4</th>\n",
       "      <td>1.417245</td>\n",
       "      <td>7.811345</td>\n",
       "      <td>7.692765</td>\n",
       "      <td>0.041589</td>\n",
       "      <td>0.014061</td>\n",
       "      <td>0.007285</td>\n",
       "      <td>0.005069</td>\n",
       "      <td>0.003526</td>\n",
       "      <td>7.782923</td>\n",
       "    </tr>\n",
       "  </tbody>\n",
       "</table>\n",
       "</div>"
      ],
      "text/plain": [
       "          x          y     y_pred        SSR       SSD         SST     beta_n  \\\n",
       "0 -2.970223  -0.335664  -0.643424  72.933692  0.094717   67.771781  36.608087   \n",
       "1  2.672801   9.898286  10.078321   4.759480  0.032413    4.006353   2.394245   \n",
       "2  6.012116  18.915595  16.423020  72.698157  6.212932  121.416086  49.976073   \n",
       "3  1.258877   7.759855   7.391867   0.254855  0.135415    0.018726   0.029798   \n",
       "4  1.417245   7.811345   7.692765   0.041589  0.014061    0.007285   0.005069   \n",
       "\n",
       "      beta_d    y_model  \n",
       "0  19.774484  -0.623260  \n",
       "1   1.430830  10.188510  \n",
       "2  20.570650  16.586480  \n",
       "3   0.047415   7.479499  \n",
       "4   0.003526   7.782923  "
      ]
     },
     "metadata": {},
     "execution_count": 52
    }
   ],
   "metadata": {}
  },
  {
   "cell_type": "code",
   "execution_count": 53,
   "source": [
    "SSR = sum((data['y_model'] - y_mean)**2)\n",
    "SSD = sum((data['y_model'] - data['y'])**2)\n",
    "SST = sum((data['y'] - y_mean)**2)"
   ],
   "outputs": [],
   "metadata": {}
  },
  {
   "cell_type": "code",
   "execution_count": 54,
   "source": [
    "SSR, SSD, SST"
   ],
   "outputs": [
    {
     "output_type": "execute_result",
     "data": {
      "text/plain": [
       "(2255.713654426543, 81.00709480557659, 2336.720749232118)"
      ]
     },
     "metadata": {},
     "execution_count": 54
    }
   ],
   "metadata": {}
  },
  {
   "cell_type": "code",
   "execution_count": 55,
   "source": [
    "SSR + SSD"
   ],
   "outputs": [
    {
     "output_type": "execute_result",
     "data": {
      "text/plain": [
       "2336.72074923212"
      ]
     },
     "metadata": {},
     "execution_count": 55
    }
   ],
   "metadata": {}
  },
  {
   "cell_type": "code",
   "execution_count": 56,
   "source": [
    "R2 = SSR / SST"
   ],
   "outputs": [],
   "metadata": {}
  },
  {
   "cell_type": "code",
   "execution_count": 57,
   "source": [
    "R2"
   ],
   "outputs": [
    {
     "output_type": "execute_result",
     "data": {
      "text/plain": [
       "0.9653330014584776"
      ]
     },
     "metadata": {},
     "execution_count": 57
    }
   ],
   "metadata": {}
  },
  {
   "cell_type": "code",
   "execution_count": 61,
   "source": [
    "y_meanVal = [np.mean(data['y']) for _ in range(1, len(data)+1)]\n",
    "plt.plot(data['x'], data['y_pred'])\n",
    "plt.plot(data['x'], data['y'], 'go')\n",
    "plt.plot(data['x'], y_meanVal,'b')\n",
    "plt.plot(data['x'], data['y_model'])\n",
    "plt.title('Valor actual vs. Prediccion')"
   ],
   "outputs": [
    {
     "output_type": "execute_result",
     "data": {
      "text/plain": [
       "Text(0.5, 1.0, 'Valor actual vs. Prediccion')"
      ]
     },
     "metadata": {},
     "execution_count": 61
    },
    {
     "output_type": "display_data",
     "data": {
      "image/png": "[encoded data removed]",
      "text/plain": [
       "<Figure size 432x288 with 1 Axes>"
      ]
     },
     "metadata": {
      "needs_background": "light"
     }
    }
   ],
   "metadata": {}
  },
  {
   "cell_type": "markdown",
   "source": [
    "# Error estandar de los residuos (RSE)"
   ],
   "metadata": {}
  },
  {
   "cell_type": "code",
   "execution_count": 62,
   "source": [
    "RSE = np.sqrt(SSD/(len(data)-2))"
   ],
   "outputs": [],
   "metadata": {}
  },
  {
   "cell_type": "code",
   "execution_count": 63,
   "source": [
    "RSE"
   ],
   "outputs": [
    {
     "output_type": "execute_result",
     "data": {
      "text/plain": [
       "0.9091771049801953"
      ]
     },
     "metadata": {},
     "execution_count": 63
    }
   ],
   "metadata": {}
  },
  {
   "cell_type": "code",
   "execution_count": null,
   "source": [],
   "outputs": [],
   "metadata": {}
  }
 ],
 "metadata": {
  "orig_nbformat": 4,
  "language_info": {
   "name": "python",
   "version": "3.9.6",
   "mimetype": "text/x-python",
   "codemirror_mode": {
    "name": "ipython",
    "version": 3
   },
   "pygments_lexer": "ipython3",
   "nbconvert_exporter": "python",
   "file_extension": ".py"
  },
  "kernelspec": {
   "name": "python3",
   "display_name": "Python 3.9.6 64-bit"
  },
  "interpreter": {
   "hash": "767d51c1340bd893661ea55ea3124f6de3c7a262a8b4abca0554b478b1e2ff90"
  }
 },
 "nbformat": 4,
 "nbformat_minor": 2
}