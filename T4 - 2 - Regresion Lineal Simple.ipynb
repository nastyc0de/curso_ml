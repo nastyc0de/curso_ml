{
 "cells": [
  {
   "cell_type": "markdown",
   "source": [
    "# Regresion lineal simple en Python\n",
    "## El paquete statsmodel para la regresion lineal"
   ],
   "metadata": {}
  },
  {
   "cell_type": "markdown",
   "source": [],
   "metadata": {}
  }
 ],
 "metadata": {
  "orig_nbformat": 4,
  "language_info": {
   "name": "python"
  }
 },
 "nbformat": 4,
 "nbformat_minor": 2
}